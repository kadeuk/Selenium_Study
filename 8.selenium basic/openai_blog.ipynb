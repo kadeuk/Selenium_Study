{
 "cells": [
  {
   "cell_type": "code",
   "execution_count": 6,
   "id": "14255f75-b9b3-4052-9c9b-d1d4bf783915",
   "metadata": {},
   "outputs": [],
   "source": [
    "import openai\n",
    "openai.api_key = \"\""
   ]
  },
  {
   "cell_type": "code",
   "execution_count": 7,
   "id": "69981e8c-b179-4afc-9439-5d67dfc36f11",
   "metadata": {},
   "outputs": [
    {
     "name": "stdout",
     "output_type": "stream",
     "text": [
      "당신이 생각하는 압구정 최고의 맛집 Top 20\n"
     ]
    }
   ],
   "source": [
    "city = '압구정'\n",
    "topic = f'당신이 생각하는 {city} 최고의 맛집 Top 20'\n",
    "category = '여행'\n",
    "print(topic)"
   ]
  },
  {
   "cell_type": "code",
   "execution_count": 8,
   "id": "956602ee-6c01-46f9-b130-9197dffd1604",
   "metadata": {},
   "outputs": [],
   "source": [
    "prompt = f'''\n",
    "마크다운 형식의 블로그 글을 작성해줘\n",
    "블로그의 주제는 \"{topic}\" 으로 작성해줘\n",
    "중요한 단어나 문장에는 하이라이트, 볼드를 적용해줘\n",
    "전체 블로그의 길이는 10분 내외로 생성해줘\n",
    "레스토랑의 주소 및 도움이 되는 정보를 포함해줘(오픈시간과 클로즈시간)\n",
    "이 글을 읽는 대상은 20~40대야\n",
    "해시태그도 여러개 생상해 주고 맨끝에만 추가해줘\n",
    "'''"
   ]
  },
  {
   "cell_type": "code",
   "execution_count": 9,
   "id": "149494ce-40a4-4680-9d61-5bb9d67c7f2d",
   "metadata": {},
   "outputs": [],
   "source": [
    "def generate_blog(topic, prompt):\n",
    "    model_engine = 'text-davinci-003'\n",
    "    max_tokens = 2048\n",
    "    completion = openai.Completion.create(\n",
    "        engine = model_engine,\n",
    "        prompt = prompt,\n",
    "        max_tokens = max_tokens,\n",
    "        temperature = 0.3,\n",
    "        top_p = 1,\n",
    "        frequency_penalty = 0,\n",
    "        presence_penalty = 0\n",
    "    )\n",
    "    return completion"
   ]
  },
  {
   "cell_type": "code",
   "execution_count": 10,
   "id": "81b58136-916d-4c2f-8be2-5fb66a583bbf",
   "metadata": {},
   "outputs": [
    {
     "name": "stdout",
     "output_type": "stream",
     "text": [
      "\n",
      "# 압구정의 최고의 맛집 Top 20\n",
      "\n",
      "압구정은 서울의 중심지로 인기가 높은 곳입니다. 여기에는 다양한 맛집들이 있어 맛있는 음식을 즐길 수 있습니다. 그래서 오늘은 압구정의 최고의 맛집 Top 20을 소개해드리겠습니다.\n",
      "\n",
      "1. **압구정 백암식당** - 압구정에서 유명한 전통식당입니다. 백암식당의 특징은 다양한 메뉴를 제공하는 것입니다. 백암식당의 오픈 시간은 오전 11시부터 오후 10시까지이며, 클로즈 시간은 오후 11시입니다.\n",
      "\n",
      "2. **압구정 마루** - 압구정 마루는 일본 음식을 제공하는 레스토랑입니다. 여기에서는 신선한 생선과 다양한 일본 디저트를 즐길 수 있습니다. 오픈 시간은 오전 11시부터 오후 10시까지이며, 클로즈 시간은 오후 11시입니다.\n",
      "\n",
      "3. **압구정 돈까스** - 압구정 돈까스는 일본의 돈까스를 제공하는 레스토랑입니다. 여기에서는 신선한 생선과 다양한 일본 디저트를 즐길 수 있습니다. 오픈 시간은 오전 11시부터 오후 10시까지이며, 클로즈 시간은 오후 11시입니다.\n",
      "\n",
      "4. **압구정 스테이크하우스** - 압구정 스테이크하우스는 스테이크를 제공하는 레스토랑입니다. 여기에서는 다양한 스테이크와 음료를 즐길 수 있습니다. 오픈 시간은 오전 11시부터 오후 10시까지이며, 클로즈 시간은 오후 11시입니다.\n",
      "\n",
      "5. **압구정 스테이크 카페** - 압구정 스테이크 카페는 스테이크를 제공하는 카페입니다. 여기에서는 스테이크와 음료, 디저트를 즐길 수 있습니다. 오픈 시간은 오전 11시부터 오후 10시까지이며, 클로즈 시간은 오후 11시입니다.\n",
      "\n",
      "6. **압구정 돈까스 카페** - 압구정 돈까스 카페는 돈까스를 제공하는 카페입니다. 여기에서는 다양한 돈까스와 음료, 디저트를 즐길 수 있습니다. 오픈 시간은 오전 11시부터 오후 10시까지이며, 클로즈 시간은 오후 11시입니다.\n",
      "\n",
      "7. **압구정 스테이크 바** - 압구정 스테이크 바는 스테이크를 제공하는 바입니다. 여기에서는 스테이크와 음료, 디저트를 즐길 수 있습니다. 오픈 시간은 오전 11시부터 오후 10시까지이며, 클로즈 시간은 오후 11시입니다.\n",
      "\n",
      "8. **압구정 치킨** - 압구정 치킨은 치\n"
     ]
    }
   ],
   "source": [
    "response = generate_blog(topic, prompt)\n",
    "print(response.choices[0].text)"
   ]
  },
  {
   "cell_type": "code",
   "execution_count": null,
   "id": "c875b82a-1ad7-4480-9e03-4bac41e6dff7",
   "metadata": {},
   "outputs": [],
   "source": []
  }
 ],
 "metadata": {
  "kernelspec": {
   "display_name": "Python 3 (ipykernel)",
   "language": "python",
   "name": "python3"
  },
  "language_info": {
   "codemirror_mode": {
    "name": "ipython",
    "version": 3
   },
   "file_extension": ".py",
   "mimetype": "text/x-python",
   "name": "python",
   "nbconvert_exporter": "python",
   "pygments_lexer": "ipython3",
   "version": "3.11.4"
  }
 },
 "nbformat": 4,
 "nbformat_minor": 5
}
